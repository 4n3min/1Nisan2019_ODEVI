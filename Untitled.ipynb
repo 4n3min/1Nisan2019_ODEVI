{
  "nbformat": 4,
  "nbformat_minor": 0,
  "metadata": {
    "colab": {
      "name": "Untitled",
      "version": "0.3.2",
      "provenance": [],
      "collapsed_sections": [],
      "include_colab_link": true
    },
    "kernelspec": {
      "name": "python3",
      "display_name": "Python 3"
    }
  },
  "cells": [
    {
      "cell_type": "markdown",
      "metadata": {
        "id": "view-in-github",
        "colab_type": "text"
      },
      "source": [
        "<a href=\"https://colab.research.google.com/github/4n3min/1Nisan2019_ODEVI/blob/master/Untitled.ipynb\" target=\"_parent\"><img src=\"https://colab.research.google.com/assets/colab-badge.svg\" alt=\"Open In Colab\"/></a>"
      ]
    },
    {
      "metadata": {
        "id": "ATUCRfcW5gOj",
        "colab_type": "code",
        "colab": {}
      },
      "cell_type": "code",
      "source": [
        ""
      ],
      "execution_count": 0,
      "outputs": []
    },
    {
      "metadata": {
        "id": "D6z88k0i8sqO",
        "colab_type": "text"
      },
      "cell_type": "markdown",
      "source": [
        "\n",
        "\n",
        "P(A|B) = B olayı gerçekleştiğinde A olayının gerçekleşme olasılığı\n",
        "\n",
        "P(A) = A olayının gerçekleşme olasılığı\n",
        "\n",
        "P(B|A) = A olayı gerçekleştiğinde B olayının gerçekleşme olasılığı\n",
        "\n",
        "P(B) = B olayının gerçekleşme olasılığı\n",
        "\n"
      ]
    },
    {
      "metadata": {
        "id": "YemEulnG7RJl",
        "colab_type": "text"
      },
      "cell_type": "markdown",
      "source": [
        "![alt text](https://)"
      ]
    },
    {
      "metadata": {
        "id": "KU2qTmhZ5j-U",
        "colab_type": "code",
        "colab": {}
      },
      "cell_type": "code",
      "source": [
        "\"\"\"\n",
        "Bayes Teoremi\n",
        "\n",
        "Tüm e-postaların %60’ı spam, tüm spamların %90’ı sahte üst bilgiye sahiptir.\n",
        "Spam olmayanların %20’si sahte üst bilgiye sahiptir.\n",
        "\n",
        "|               | spam           (60%) | notspam        (40%) |\n",
        "| ------------- | -------------------- | -------------------- |\n",
        "| test_positive | true_positive  (90%) | false_positive (20%) |\n",
        "| test_negative | false_negative (10%) | true_negative  (80%) |\n",
        "\n",
        "Bir e-postanın sahte üst bilgiye sahip olup, spam olma olasılıgı nedir?\n",
        "\"\"\"\n",
        "\n",
        "print(__doc__)\n",
        "\n",
        "SPAM = .6\n",
        "NOTSPAM = 1 - SPAM\n",
        "TRUE_POSITIVE = .9\n",
        "FALSE_POSITIVE = .2\n",
        "\n",
        "FACT = SPAM * TRUE_POSITIVE  # Olay uzayı\n",
        "SAMPLE = NOTSPAM * FALSE_POSITIVE + FACT  # Örnek uzay\n",
        "\n",
        "P = FACT / SAMPLE  # Olasılık değeri\n",
        "RESULT = P * 100\n",
        "\n",
        "\n",
        "print(\"\\nE-postalarda spam mail olma olasılığı yüzde {RESULT} olacaktır.\".format (RESULT=RESULT))\n"
      ],
      "execution_count": 0,
      "outputs": []
    },
    {
      "metadata": {
        "id": "KrC94QPd5l6Y",
        "colab_type": "text"
      },
      "cell_type": "markdown",
      "source": [
        ""
      ]
    }
  ]
}